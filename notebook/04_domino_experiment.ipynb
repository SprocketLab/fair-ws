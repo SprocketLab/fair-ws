{
 "cells": [
  {
   "cell_type": "code",
   "execution_count": 1,
   "id": "b6aa1297",
   "metadata": {},
   "outputs": [],
   "source": [
    "import pandas as pd\n",
    "import numpy as np\n",
    "import sklearn\n",
    "import sys\n",
    "import os\n",
    "import torch\n",
    "import tqdm\n",
    "import warnings\n",
    "warnings.filterwarnings('ignore')\n",
    "\n",
    "sys.path.append('../')\n",
    "sys.path.append('../../')\n",
    "\n",
    "from domino import DominoSlicer\n",
    "from sklearn.linear_model import LogisticRegression\n",
    "from snorkel.labeling.model import LabelModel\n",
    "\n",
    "from fairws.data_util import load_wrench_dataset, load_LF\n",
    "from fairws.metrics import exp_eval\n",
    "from fairws.sbm import get_baseline_pseudolabel, get_sbm_pseudolabel"
   ]
  },
  {
   "cell_type": "markdown",
   "id": "b106a3f2",
   "metadata": {},
   "source": [
    "Note: the current version of domino has a bug, which can be fixed modifying \\<domino_path\\>/_embed/\\_\\_init\\_\\_.py\n",
    "\n",
    "```def infer_modality(col: mk.AbstractColumn)``` --> ```def infer_modality(col: mk.Column)```\n"
   ]
  },
  {
   "cell_type": "markdown",
   "id": "b2ac78da",
   "metadata": {},
   "source": [
    "# Configurations"
   ]
  },
  {
   "cell_type": "code",
   "execution_count": 2,
   "id": "4217ea0c",
   "metadata": {},
   "outputs": [],
   "source": [
    "data_base_path = '../data'\n",
    "dataset_name = \"census\" # adult | bank_marketing | CivilComments | hateXplain | CelebA | UTKFace\n",
    "use_LIFT_embedding = False # only for adult, bank_marketing\n",
    "sbm_diff_threshold = 0.05\n",
    "\n",
    "result_collection = pd.DataFrame() # to keep results"
   ]
  },
  {
   "cell_type": "markdown",
   "id": "48aaf981",
   "metadata": {},
   "source": [
    "# Fully supervised"
   ]
  },
  {
   "cell_type": "code",
   "execution_count": 3,
   "id": "28fb8d62",
   "metadata": {},
   "outputs": [
    {
     "name": "stdout",
     "output_type": "stream",
     "text": [
      "{'condition': 'fs', 'accuracy': 0.8456483017013697, 'fscore': 0.6341534430048041, 'precision': 0.7204763479986768, 'recall': 0.5663026521060842}\n"
     ]
    }
   ],
   "source": [
    "cond = \"fs\"\n",
    "x_train, y_train, x_test, y_test = load_wrench_dataset(dataset_name=dataset_name,\n",
    "                                                       data_base_path='../data')\n",
    "model = LogisticRegression()\n",
    "model.fit(x_train, y_train)\n",
    "y_pred = model.predict(x_test)\n",
    "result = exp_eval(y_test, y_pred, cond=cond, fairness=False)\n",
    "print(result)\n",
    "\n",
    "result_collection = result_collection.append(result, ignore_index=True)"
   ]
  },
  {
   "cell_type": "markdown",
   "id": "2df53bbf",
   "metadata": {},
   "source": [
    "# WS baseline"
   ]
  },
  {
   "cell_type": "code",
   "execution_count": 4,
   "id": "91e0c6c0",
   "metadata": {},
   "outputs": [
    {
     "name": "stderr",
     "output_type": "stream",
     "text": [
      "100%|███████████████████████████████████████████████████████████████████████████| 1000/1000 [00:05<00:00, 167.28epoch/s]\n"
     ]
    },
    {
     "name": "stdout",
     "output_type": "stream",
     "text": [
      "{'condition': 'ws_baseline', 'accuracy': 0.6017443645967693, 'fscore': 0.511820508959494, 'precision': 0.3602161933022467, 'recall': 0.8837753510140406}\n"
     ]
    }
   ],
   "source": [
    "cond = \"ws_baseline\"\n",
    "\n",
    "x_train, y_train, x_test, y_test = load_wrench_dataset(dataset_name=dataset_name,\n",
    "                                                       data_base_path='../data')\n",
    "# weak supervision\n",
    "L = load_LF(dataset_name, data_base_path='../data')\n",
    "y_train = get_baseline_pseudolabel(L)\n",
    "\n",
    "# downstream task\n",
    "model = LogisticRegression()\n",
    "model.fit(x_train, y_train)\n",
    "y_pred = model.predict(x_test)\n",
    "result = exp_eval(y_test, y_pred, cond=cond, fairness=False)\n",
    "print(result)\n",
    "\n",
    "result_collection = result_collection.append(result, ignore_index=True)"
   ]
  },
  {
   "cell_type": "markdown",
   "id": "63c1a4af",
   "metadata": {},
   "source": [
    "# Domino + SBM"
   ]
  },
  {
   "cell_type": "code",
   "execution_count": 6,
   "id": "1932c365",
   "metadata": {},
   "outputs": [
    {
     "name": "stderr",
     "output_type": "stream",
     "text": [
      "100%|███████████████████████████████████████████████████████████████████████████| 1000/1000 [00:06<00:00, 166.54epoch/s]\n"
     ]
    },
    {
     "data": {
      "application/vnd.jupyter.widget-view+json": {
       "model_id": "1e5e05386d5f4f4b888039c381105c7c",
       "version_major": 2,
       "version_minor": 0
      },
      "text/plain": [
       "  0%|          | 0/100 [00:00<?, ?it/s]"
      ]
     },
     "metadata": {},
     "output_type": "display_data"
    },
    {
     "name": "stderr",
     "output_type": "stream",
     "text": [
      "100%|███████████████████████████████████████████████████████████████████████████| 1000/1000 [00:06<00:00, 159.93epoch/s]\n"
     ]
    },
    {
     "name": "stdout",
     "output_type": "stream",
     "text": [
      "{'condition': 'sbm(None)', 'accuracy': 0.7322646029113691, 'fscore': 0.54626834599771, 'precision': 0.45547647977781636, 'recall': 0.6822672906916276}\n"
     ]
    },
    {
     "name": "stderr",
     "output_type": "stream",
     "text": [
      "100%|███████████████████████████████████████████████████████████████████████████| 1000/1000 [00:06<00:00, 148.95epoch/s]\n"
     ]
    },
    {
     "data": {
      "application/vnd.jupyter.widget-view+json": {
       "model_id": "6d40ff30d4a94dada79f043ffa651d12",
       "version_major": 2,
       "version_minor": 0
      },
      "text/plain": [
       "  0%|          | 0/100 [00:00<?, ?it/s]"
      ]
     },
     "metadata": {},
     "output_type": "display_data"
    },
    {
     "name": "stderr",
     "output_type": "stream",
     "text": [
      "100%|███████████████████████████████████████████████████████████████████████████| 1000/1000 [00:05<00:00, 190.58epoch/s]\n"
     ]
    },
    {
     "name": "stdout",
     "output_type": "stream",
     "text": [
      "{'condition': 'sbm(linear)', 'accuracy': 0.7142681653461089, 'fscore': 0.47064178425125175, 'precision': 0.41845406717927963, 'recall': 0.5377015080603225}\n"
     ]
    },
    {
     "name": "stderr",
     "output_type": "stream",
     "text": [
      "100%|███████████████████████████████████████████████████████████████████████████| 1000/1000 [00:05<00:00, 170.62epoch/s]\n"
     ]
    },
    {
     "data": {
      "application/vnd.jupyter.widget-view+json": {
       "model_id": "c670d438449b4dc8b047f204159eb610",
       "version_major": 2,
       "version_minor": 0
      },
      "text/plain": [
       "  0%|          | 0/100 [00:00<?, ?it/s]"
      ]
     },
     "metadata": {},
     "output_type": "display_data"
    },
    {
     "name": "stderr",
     "output_type": "stream",
     "text": [
      "100%|███████████████████████████████████████████████████████████████████████████| 1000/1000 [00:06<00:00, 159.08epoch/s]\n"
     ]
    },
    {
     "name": "stdout",
     "output_type": "stream",
     "text": [
      "{'condition': 'sbm(sinkhorn)', 'accuracy': 0.678398132792826, 'fscore': 0.3693086003372681, 'precision': 0.34403052064631956, 'recall': 0.3985959438377535}\n"
     ]
    }
   ],
   "source": [
    "x_train, y_train, x_test, y_test = load_wrench_dataset(dataset_name=dataset_name,\n",
    "                                                       data_base_path='../data')\n",
    "for ot_type in [None, \"linear\", \"sinkhorn\"]:\n",
    "    cond = f\"sbm({ot_type})\"\n",
    "\n",
    "    L = load_LF(dataset_name, data_base_path='../data')\n",
    "    \n",
    "    # get a_train using domino\n",
    "    label_model = LabelModel(cardinality=2, verbose=False)\n",
    "    label_model.fit(L_train=L,\n",
    "                    n_epochs=1000, log_freq=100, seed=123)\n",
    "\n",
    "    y_pseudo_train = label_model.predict(L, tie_break_policy=\"random\")\n",
    "    y_train_proba = label_model.predict_proba(L)\n",
    "    slicer = DominoSlicer(n_slices=2, n_pca_components=min(x_train.shape[1], 128))\n",
    "    slicer.fit(embeddings=x_train, targets=y_pseudo_train, pred_probs=y_train_proba)\n",
    "    a_train = slicer.predict(\n",
    "        data={'embedding':x_train, 'target':y_pseudo_train, 'pred_probs':y_train_proba},\n",
    "            embeddings='embedding'\n",
    "        )[:, 1]\n",
    "    \n",
    "    # apply sbm\n",
    "    y_train= get_sbm_pseudolabel(L, x_train, a_train, dataset_name, \n",
    "                                 ot_type=ot_type, diff_threshold=sbm_diff_threshold)\n",
    "    \n",
    "    # downstream task\n",
    "    model = LogisticRegression()\n",
    "    model.fit(x_train, y_train)\n",
    "    y_pred = model.predict(x_test)\n",
    "    result = exp_eval(y_test, y_pred, cond=cond, fairness=False)\n",
    "    print(result)\n",
    "    result_collection = result_collection.append(result, ignore_index=True)\n"
   ]
  },
  {
   "cell_type": "markdown",
   "id": "9ec9e08e",
   "metadata": {},
   "source": [
    "# Result summary"
   ]
  },
  {
   "cell_type": "code",
   "execution_count": 7,
   "id": "1c84579b",
   "metadata": {},
   "outputs": [
    {
     "data": {
      "text/html": [
       "<div>\n",
       "<style scoped>\n",
       "    .dataframe tbody tr th:only-of-type {\n",
       "        vertical-align: middle;\n",
       "    }\n",
       "\n",
       "    .dataframe tbody tr th {\n",
       "        vertical-align: top;\n",
       "    }\n",
       "\n",
       "    .dataframe thead th {\n",
       "        text-align: right;\n",
       "    }\n",
       "</style>\n",
       "<table border=\"1\" class=\"dataframe\">\n",
       "  <thead>\n",
       "    <tr style=\"text-align: right;\">\n",
       "      <th></th>\n",
       "      <th>condition</th>\n",
       "      <th>accuracy</th>\n",
       "      <th>fscore</th>\n",
       "      <th>precision</th>\n",
       "      <th>recall</th>\n",
       "    </tr>\n",
       "  </thead>\n",
       "  <tbody>\n",
       "    <tr>\n",
       "      <th>0</th>\n",
       "      <td>fs</td>\n",
       "      <td>0.845648</td>\n",
       "      <td>0.634153</td>\n",
       "      <td>0.720476</td>\n",
       "      <td>0.566303</td>\n",
       "    </tr>\n",
       "    <tr>\n",
       "      <th>1</th>\n",
       "      <td>ws_baseline</td>\n",
       "      <td>0.601744</td>\n",
       "      <td>0.511821</td>\n",
       "      <td>0.360216</td>\n",
       "      <td>0.883775</td>\n",
       "    </tr>\n",
       "    <tr>\n",
       "      <th>2</th>\n",
       "      <td>sbm(None)</td>\n",
       "      <td>0.732265</td>\n",
       "      <td>0.546268</td>\n",
       "      <td>0.455476</td>\n",
       "      <td>0.682267</td>\n",
       "    </tr>\n",
       "    <tr>\n",
       "      <th>3</th>\n",
       "      <td>sbm(linear)</td>\n",
       "      <td>0.714268</td>\n",
       "      <td>0.470642</td>\n",
       "      <td>0.418454</td>\n",
       "      <td>0.537702</td>\n",
       "    </tr>\n",
       "    <tr>\n",
       "      <th>4</th>\n",
       "      <td>sbm(sinkhorn)</td>\n",
       "      <td>0.678398</td>\n",
       "      <td>0.369309</td>\n",
       "      <td>0.344031</td>\n",
       "      <td>0.398596</td>\n",
       "    </tr>\n",
       "  </tbody>\n",
       "</table>\n",
       "</div>"
      ],
      "text/plain": [
       "       condition  accuracy    fscore  precision    recall\n",
       "0             fs  0.845648  0.634153   0.720476  0.566303\n",
       "1    ws_baseline  0.601744  0.511821   0.360216  0.883775\n",
       "2      sbm(None)  0.732265  0.546268   0.455476  0.682267\n",
       "3    sbm(linear)  0.714268  0.470642   0.418454  0.537702\n",
       "4  sbm(sinkhorn)  0.678398  0.369309   0.344031  0.398596"
      ]
     },
     "execution_count": 7,
     "metadata": {},
     "output_type": "execute_result"
    }
   ],
   "source": [
    "result_collection"
   ]
  }
 ],
 "metadata": {
  "kernelspec": {
   "display_name": "Python 3 (ipykernel)",
   "language": "python",
   "name": "python3"
  },
  "language_info": {
   "codemirror_mode": {
    "name": "ipython",
    "version": 3
   },
   "file_extension": ".py",
   "mimetype": "text/x-python",
   "name": "python",
   "nbconvert_exporter": "python",
   "pygments_lexer": "ipython3",
   "version": "3.8.16"
  }
 },
 "nbformat": 4,
 "nbformat_minor": 5
}
