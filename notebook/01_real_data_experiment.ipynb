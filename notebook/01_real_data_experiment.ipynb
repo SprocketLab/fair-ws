{
 "cells": [
  {
   "cell_type": "code",
   "execution_count": 1,
   "id": "b6aa1297",
   "metadata": {},
   "outputs": [],
   "source": [
    "import pandas as pd\n",
    "import numpy as np\n",
    "import sklearn\n",
    "import sys\n",
    "import os\n",
    "import torch\n",
    "import tqdm\n",
    "import warnings\n",
    "warnings.filterwarnings('ignore')\n",
    "\n",
    "sys.path.append('../')\n",
    "sys.path.append('../../')\n",
    "\n",
    "from fairws.data_util import load_dataset, load_LIFT_embedding, load_LF\n",
    "from sklearn.linear_model import LogisticRegression\n",
    "from fairws.metrics import exp_eval\n",
    "from fairws.sbm import get_baseline_pseudolabel, get_sbm_pseudolabel"
   ]
  },
  {
   "cell_type": "markdown",
   "id": "b2ac78da",
   "metadata": {},
   "source": [
    "# Configurations"
   ]
  },
  {
   "cell_type": "code",
   "execution_count": 2,
   "id": "4217ea0c",
   "metadata": {},
   "outputs": [],
   "source": [
    "dataset_name = \"bank_marketing\" # adult | bank_marketing | CivilComments | hateXplain | CelebA | UTKFace\n",
    "use_LIFT_embedding = True # only for adult, bank_marketing\n",
    "sbm_diff_threshold = 0.05\n",
    "\n",
    "result_collection = pd.DataFrame() # to keep results"
   ]
  },
  {
   "cell_type": "markdown",
   "id": "48aaf981",
   "metadata": {},
   "source": [
    "# Fully supervised"
   ]
  },
  {
   "cell_type": "code",
   "execution_count": 3,
   "id": "28fb8d62",
   "metadata": {},
   "outputs": [
    {
     "name": "stdout",
     "output_type": "stream",
     "text": [
      "{'condition': 'fs', 'accuracy': 0.9121955167111758, 'fscore': 0.517992003553976, 'precision': 0.6755504055619931, 'recall': 0.420028818443804, 'demographic_parity_gap': 0.12781807780265808, 'equal_opportunity_gap': 0.11709368228912354}\n"
     ]
    }
   ],
   "source": [
    "cond = \"fs\"\n",
    "x_train, y_train, a_train, x_test, y_test, a_test = load_dataset(dataset_name=dataset_name,\n",
    "                                                                    data_base_path='../data')\n",
    "model = LogisticRegression()\n",
    "model.fit(x_train, y_train)\n",
    "y_pred = model.predict(x_test)\n",
    "result = exp_eval(y_test, y_pred, a_test, cond=cond)\n",
    "print(result)\n",
    "\n",
    "result_collection = result_collection.append(result, ignore_index=True)"
   ]
  },
  {
   "cell_type": "markdown",
   "id": "2df53bbf",
   "metadata": {},
   "source": [
    "# WS baseline"
   ]
  },
  {
   "cell_type": "code",
   "execution_count": 4,
   "id": "91e0c6c0",
   "metadata": {},
   "outputs": [
    {
     "name": "stderr",
     "output_type": "stream",
     "text": [
      "100%|██████████████████████████████████████████████████████████████████████████| 1000/1000 [00:00<00:00, 1995.22epoch/s]\n"
     ]
    },
    {
     "name": "stdout",
     "output_type": "stream",
     "text": [
      "{'condition': 'ws_baseline', 'accuracy': 0.6809905316824472, 'fscore': 0.2753676470588235, 'precision': 0.18484698914116485, 'recall': 0.5396253602305475, 'demographic_parity_gap': 0.5547482967376709, 'equal_opportunity_gap': 0.42558276653289795}\n"
     ]
    }
   ],
   "source": [
    "cond = \"ws_baseline\"\n",
    "\n",
    "x_train, y_train, a_train, x_test, y_test, a_test = load_dataset(dataset_name=dataset_name,\n",
    "                                                                    data_base_path='../data')\n",
    "\n",
    "# weak supervision\n",
    "L = load_LF(dataset_name, data_base_path='../data')\n",
    "y_train = get_baseline_pseudolabel(L)\n",
    "\n",
    "# downstream task\n",
    "model = LogisticRegression()\n",
    "model.fit(x_train, y_train)\n",
    "y_pred = model.predict(x_test)\n",
    "result = exp_eval(y_test, y_pred, a_test, cond=cond)\n",
    "print(result)\n",
    "\n",
    "result_collection = result_collection.append(result, ignore_index=True)"
   ]
  },
  {
   "cell_type": "markdown",
   "id": "63c1a4af",
   "metadata": {},
   "source": [
    "# SBM"
   ]
  },
  {
   "cell_type": "code",
   "execution_count": null,
   "id": "1932c365",
   "metadata": {},
   "outputs": [
    {
     "name": "stderr",
     "output_type": "stream",
     "text": [
      "computing sbm mapping...: 100%|███████████████████████████████████████████████████████| 188/188 [00:25<00:00,  7.49it/s]\n",
      "computing sbm mapping...: 100%|█████████████████████████████████████████████████████| 7021/7021 [15:18<00:00,  7.64it/s]\n"
     ]
    },
    {
     "name": "stdout",
     "output_type": "stream",
     "text": [
      "SBM (None) saved in ../data/bank_marketing/SBM_mapping/bank_marketing_embedding_SBM_mapping_None_0->1.pt, ../data/bank_marketing/SBM_mapping/bank_marketing_embedding_SBM_mapping_None_0->1.pt!\n"
     ]
    },
    {
     "name": "stderr",
     "output_type": "stream",
     "text": [
      "100%|██████████████████████████████████████████████████████████████████████████| 1000/1000 [00:00<00:00, 2890.54epoch/s]\n"
     ]
    },
    {
     "name": "stdout",
     "output_type": "stream",
     "text": [
      "{'condition': 'sbm(None)', 'accuracy': 0.7130371449380918, 'fscore': 0.26765799256505574, 'precision': 0.18760856977417487, 'recall': 0.4668587896253602, 'demographic_parity_gap': 0.07025843858718872, 'equal_opportunity_gap': 0.09291419386863708}\n"
     ]
    },
    {
     "name": "stderr",
     "output_type": "stream",
     "text": [
      "computing sbm mapping...: 100%|███████████████████████████████████████████████████████| 188/188 [00:58<00:00,  3.23it/s]\n",
      "computing sbm mapping...: 100%|█████████████████████████████████████████████████████| 7021/7021 [34:50<00:00,  3.36it/s]\n"
     ]
    },
    {
     "name": "stdout",
     "output_type": "stream",
     "text": [
      "SBM (linear) saved in ../data/bank_marketing/SBM_mapping/bank_marketing_embedding_SBM_mapping_linear_0->1.pt, ../data/bank_marketing/SBM_mapping/bank_marketing_embedding_SBM_mapping_linear_0->1.pt!\n"
     ]
    },
    {
     "name": "stderr",
     "output_type": "stream",
     "text": [
      "100%|██████████████████████████████████████████████████████████████████████████| 1000/1000 [00:00<00:00, 2455.86epoch/s]\n"
     ]
    },
    {
     "name": "stdout",
     "output_type": "stream",
     "text": [
      "{'condition': 'sbm(linear)', 'accuracy': 0.8918831431577243, 'fscore': 0.30489073881373574, 'precision': 0.548689138576779, 'recall': 0.21109510086455333, 'demographic_parity_gap': 0.10366232693195343, 'equal_opportunity_gap': 0.12146978080272675}\n"
     ]
    },
    {
     "name": "stderr",
     "output_type": "stream",
     "text": [
      "computing sbm mapping...: 100%|███████████████████████████████████████████████████████| 188/188 [00:56<00:00,  3.30it/s]\n",
      "computing sbm mapping...:  69%|████████████████████████████████████▍                | 4824/7021 [23:54<10:28,  3.49it/s]"
     ]
    }
   ],
   "source": [
    "x_train, y_train, a_train, x_test, y_test, a_test = load_dataset(dataset_name=dataset_name,\n",
    "                                                                    data_base_path='../data')\n",
    "\n",
    "for ot_type in [None, \"linear\", \"sinkhorn\"]:\n",
    "    cond = f\"sbm({ot_type})\"\n",
    "\n",
    "    L = load_LF(dataset_name, data_base_path='../data')\n",
    "    if use_LIFT_embedding:\n",
    "        x_embedding_train, x_embedding_test = load_LIFT_embedding(dataset_name=dataset_name,\n",
    "                                                                    data_base_path='../data')\n",
    "        y_train= get_sbm_pseudolabel(L, x_embedding_train, a_train, dataset_name, \n",
    "                                     ot_type=ot_type, diff_threshold=sbm_diff_threshold,\n",
    "                                     use_LIFT_embedding=True)\n",
    "        \n",
    "    else:\n",
    "        y_train= get_sbm_pseudolabel(L, x_train, a_train, dataset_name, \n",
    "                                     ot_type=ot_type, diff_threshold=sbm_diff_threshold)\n",
    "    \n",
    "    # downstream task\n",
    "    model = LogisticRegression()\n",
    "    model.fit(x_train, y_train)\n",
    "    y_pred = model.predict(x_test)\n",
    "    result = exp_eval(y_test, y_pred, a_test, cond=cond)\n",
    "    print(result)\n",
    "    result_collection = result_collection.append(result, ignore_index=True)\n"
   ]
  },
  {
   "cell_type": "markdown",
   "id": "9ec9e08e",
   "metadata": {},
   "source": [
    "# Result summary"
   ]
  },
  {
   "cell_type": "code",
   "execution_count": 7,
   "id": "1c84579b",
   "metadata": {},
   "outputs": [
    {
     "data": {
      "text/html": [
       "<div>\n",
       "<style scoped>\n",
       "    .dataframe tbody tr th:only-of-type {\n",
       "        vertical-align: middle;\n",
       "    }\n",
       "\n",
       "    .dataframe tbody tr th {\n",
       "        vertical-align: top;\n",
       "    }\n",
       "\n",
       "    .dataframe thead th {\n",
       "        text-align: right;\n",
       "    }\n",
       "</style>\n",
       "<table border=\"1\" class=\"dataframe\">\n",
       "  <thead>\n",
       "    <tr style=\"text-align: right;\">\n",
       "      <th></th>\n",
       "      <th>condition</th>\n",
       "      <th>accuracy</th>\n",
       "      <th>fscore</th>\n",
       "      <th>precision</th>\n",
       "      <th>recall</th>\n",
       "      <th>demographic_parity_gap</th>\n",
       "      <th>equal_opportunity_gap</th>\n",
       "    </tr>\n",
       "  </thead>\n",
       "  <tbody>\n",
       "    <tr>\n",
       "      <th>0</th>\n",
       "      <td>fs</td>\n",
       "      <td>0.912196</td>\n",
       "      <td>0.517992</td>\n",
       "      <td>0.675550</td>\n",
       "      <td>0.420029</td>\n",
       "      <td>0.127818</td>\n",
       "      <td>0.117094</td>\n",
       "    </tr>\n",
       "    <tr>\n",
       "      <th>1</th>\n",
       "      <td>ws_baseline</td>\n",
       "      <td>0.680991</td>\n",
       "      <td>0.275368</td>\n",
       "      <td>0.184847</td>\n",
       "      <td>0.539625</td>\n",
       "      <td>0.554748</td>\n",
       "      <td>0.425583</td>\n",
       "    </tr>\n",
       "    <tr>\n",
       "      <th>2</th>\n",
       "      <td>sbm(None)</td>\n",
       "      <td>0.713037</td>\n",
       "      <td>0.267658</td>\n",
       "      <td>0.187609</td>\n",
       "      <td>0.466859</td>\n",
       "      <td>0.070258</td>\n",
       "      <td>0.092914</td>\n",
       "    </tr>\n",
       "    <tr>\n",
       "      <th>3</th>\n",
       "      <td>sbm(linear)</td>\n",
       "      <td>0.891883</td>\n",
       "      <td>0.304891</td>\n",
       "      <td>0.548689</td>\n",
       "      <td>0.211095</td>\n",
       "      <td>0.103662</td>\n",
       "      <td>0.121470</td>\n",
       "    </tr>\n",
       "    <tr>\n",
       "      <th>4</th>\n",
       "      <td>sbm(sinkhorn)</td>\n",
       "      <td>0.698147</td>\n",
       "      <td>0.079467</td>\n",
       "      <td>0.060435</td>\n",
       "      <td>0.115994</td>\n",
       "      <td>0.108674</td>\n",
       "      <td>0.072114</td>\n",
       "    </tr>\n",
       "  </tbody>\n",
       "</table>\n",
       "</div>"
      ],
      "text/plain": [
       "       condition  accuracy    fscore  precision    recall  \\\n",
       "0             fs  0.912196  0.517992   0.675550  0.420029   \n",
       "1    ws_baseline  0.680991  0.275368   0.184847  0.539625   \n",
       "2      sbm(None)  0.713037  0.267658   0.187609  0.466859   \n",
       "3    sbm(linear)  0.891883  0.304891   0.548689  0.211095   \n",
       "4  sbm(sinkhorn)  0.698147  0.079467   0.060435  0.115994   \n",
       "\n",
       "   demographic_parity_gap  equal_opportunity_gap  \n",
       "0                0.127818               0.117094  \n",
       "1                0.554748               0.425583  \n",
       "2                0.070258               0.092914  \n",
       "3                0.103662               0.121470  \n",
       "4                0.108674               0.072114  "
      ]
     },
     "execution_count": 7,
     "metadata": {},
     "output_type": "execute_result"
    }
   ],
   "source": [
    "result_collection"
   ]
  },
  {
   "cell_type": "code",
   "execution_count": null,
   "id": "3cbba8c8",
   "metadata": {},
   "outputs": [],
   "source": []
  }
 ],
 "metadata": {
  "kernelspec": {
   "display_name": "Python 3 (ipykernel)",
   "language": "python",
   "name": "python3"
  },
  "language_info": {
   "codemirror_mode": {
    "name": "ipython",
    "version": 3
   },
   "file_extension": ".py",
   "mimetype": "text/x-python",
   "name": "python",
   "nbconvert_exporter": "python",
   "pygments_lexer": "ipython3",
   "version": "3.8.16"
  }
 },
 "nbformat": 4,
 "nbformat_minor": 5
}
